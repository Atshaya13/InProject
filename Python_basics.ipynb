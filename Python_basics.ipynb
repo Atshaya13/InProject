{
  "nbformat": 4,
  "nbformat_minor": 0,
  "metadata": {
    "colab": {
      "provenance": []
    },
    "kernelspec": {
      "name": "python3",
      "display_name": "Python 3"
    },
    "language_info": {
      "name": "python"
    }
  },
  "cells": [
    {
      "cell_type": "code",
      "source": [
        "import tensorflow as tf\n",
        "print(tf.__version__)"
      ],
      "metadata": {
        "colab": {
          "base_uri": "https://localhost:8080/"
        },
        "id": "Hp-GoHGc6lCP",
        "outputId": "b2046312-8f36-4731-9725-478bc584f199"
      },
      "execution_count": 1,
      "outputs": [
        {
          "output_type": "stream",
          "name": "stdout",
          "text": [
            "2.15.0\n"
          ]
        }
      ]
    },
    {
      "cell_type": "code",
      "execution_count": 9,
      "metadata": {
        "colab": {
          "base_uri": "https://localhost:8080/"
        },
        "id": "6U7KvqEn6KQp",
        "outputId": "ef5515a0-db62-498a-e839-75f4702937c7"
      },
      "outputs": [
        {
          "output_type": "stream",
          "name": "stdout",
          "text": [
            "tf.Tensor([1.], shape=(1,), dtype=float32)\n"
          ]
        }
      ],
      "source": [
        "d0=tf.ones((1,))\n",
        "print(d0);\n",
        "d0\n",
        "d2=tf.ones((2,3))\n",
        "d3=tf.ones([2,3,1,4])\n",
        "print(d3.numpy());d3"
      ]
    },
    {
      "cell_type": "code",
      "source": [
        "import tensorflow as tf\n",
        "from tensorflow import constant, ones, zeros, fill\n",
        "a=constant([1,2,3,4],shape = [1,4],dtype=tf.int16);\n",
        "print(\"a is \\n\", a);\n",
        "b=constant(a,shape=[2,2],dtype = tf.int16)\n",
        "c=ones([3,3]);c.shape\n",
        "print(b,c)\n",
        "tf.zeros_like(c)\n",
        "d=zeros([4]);print(d);d\n",
        "print(fill ([2,3],1));\n",
        "print(ones([2,3]))\n",
        "help(fill)"
      ],
      "metadata": {
        "colab": {
          "base_uri": "https://localhost:8080/"
        },
        "id": "w6RKLcpB8CSF",
        "outputId": "9a70e4cb-d394-41d1-c9a6-8b17897af7f0"
      },
      "execution_count": 15,
      "outputs": [
        {
          "output_type": "stream",
          "name": "stdout",
          "text": [
            "tf.Tensor(\n",
            "[[10 10 10]\n",
            " [10 10 10]], shape=(2, 3), dtype=int32)\n"
          ]
        }
      ]
    },
    {
      "cell_type": "code",
      "source": [
        "import tensorflow as tf\n",
        "a0=tf.Variable([1,2,3,8], dtype = tf.float32)\n",
        "a1=tf.Variable([1,2,3,8],dtype = tf.int32)\n",
        "print(a0)\n",
        "a1"
      ],
      "metadata": {
        "colab": {
          "base_uri": "https://localhost:8080/"
        },
        "id": "GOKy9cvPBUeJ",
        "outputId": "90fddd45-a02a-478c-8142-f8a83a8ae8c2"
      },
      "execution_count": 18,
      "outputs": [
        {
          "output_type": "stream",
          "name": "stdout",
          "text": [
            "<tf.Variable 'Variable:0' shape=(4,) dtype=float32, numpy=array([1., 2., 3., 8.], dtype=float32)>\n"
          ]
        },
        {
          "output_type": "execute_result",
          "data": {
            "text/plain": [
              "<tf.Variable 'Variable:0' shape=(4,) dtype=int32, numpy=array([1, 2, 3, 8], dtype=int32)>"
            ]
          },
          "metadata": {},
          "execution_count": 18
        }
      ]
    },
    {
      "cell_type": "code",
      "source": [
        "from tensorflow import multiply, ones_like\n",
        "#Define tensors\n",
        "A1 = constant([1,2,3,4])\n",
        "A23 = constant([[1,2,3],[1,6,4]])\n",
        "\n",
        "#Define tensors to have correct shape\n",
        "B1 = ones_like(A1)\n",
        "B23 = ones_like(A23)\n",
        "\n",
        "#Perform element-wise multiplication\n",
        "C1 = multiply(A1,B1)\n",
        "C2 = A1*B1\n",
        "C23 = multiply(A23, B23)\n",
        "\n",
        "print('\\n C1: {}'.format(C1.numpy()))\n",
        "print('\\n C2:', A1*B1)\n",
        "print('\\n C23: {}'.format(C23.numpy()))"
      ],
      "metadata": {
        "colab": {
          "base_uri": "https://localhost:8080/"
        },
        "id": "aj1xcHGYCywg",
        "outputId": "9be8d7ae-54ec-4bde-9771-e10630083a49"
      },
      "execution_count": 21,
      "outputs": [
        {
          "output_type": "stream",
          "name": "stdout",
          "text": [
            "\n",
            " C1: [1 2 3 4]\n",
            "\n",
            " C2: tf.Tensor([1 2 3 4], shape=(4,), dtype=int32)\n",
            "\n",
            " C23: [[1 2 3]\n",
            " [1 6 4]]\n"
          ]
        }
      ]
    },
    {
      "cell_type": "code",
      "source": [
        "from tensorflow import reduce_sum\n",
        "reduce_sum(fill([3,4,5],1),0)"
      ],
      "metadata": {
        "colab": {
          "base_uri": "https://localhost:8080/"
        },
        "id": "VJ2OEH7qIZBD",
        "outputId": "e938b876-bcfa-4ebd-fc2f-35c57d0ce7ae"
      },
      "execution_count": 23,
      "outputs": [
        {
          "output_type": "execute_result",
          "data": {
            "text/plain": [
              "<tf.Tensor: shape=(4, 5), dtype=int32, numpy=\n",
              "array([[3, 3, 3, 3, 3],\n",
              "       [3, 3, 3, 3, 3],\n",
              "       [3, 3, 3, 3, 3],\n",
              "       [3, 3, 3, 3, 3]], dtype=int32)>"
            ]
          },
          "metadata": {},
          "execution_count": 23
        }
      ]
    },
    {
      "cell_type": "code",
      "source": [
        "import tensorflow as tf\n",
        "#E.g Gray image\n",
        "gray0 = tf.random.uniform([2,2], maxval=255, dtype='int32')\n",
        "gray=tf.reshape(gray0,[2*2,1])\n",
        "tf.random.set_seed(123)\n",
        "color0=tf.random.uniform([2,2,3], maxval=255, dtype='int32')\n",
        "print(color0)\n",
        "color = tf.reshape(color0,[2*2,3])\n",
        "color"
      ],
      "metadata": {
        "colab": {
          "base_uri": "https://localhost:8080/"
        },
        "id": "ggDAxFo2SHGm",
        "outputId": "95e8a30e-dd6e-4dd6-aa7e-e2613be34e61"
      },
      "execution_count": 26,
      "outputs": [
        {
          "output_type": "stream",
          "name": "stdout",
          "text": [
            "tf.Tensor(\n",
            "[[[166 178 129]\n",
            "  [ 68 163  75]]\n",
            "\n",
            " [[215  73  77]\n",
            "  [ 97  41 189]]], shape=(2, 2, 3), dtype=int32)\n"
          ]
        },
        {
          "output_type": "execute_result",
          "data": {
            "text/plain": [
              "<tf.Tensor: shape=(4, 3), dtype=int32, numpy=\n",
              "array([[166, 178, 129],\n",
              "       [ 68, 163,  75],\n",
              "       [215,  73,  77],\n",
              "       [ 97,  41, 189]], dtype=int32)>"
            ]
          },
          "metadata": {},
          "execution_count": 26
        }
      ]
    }
  ]
}